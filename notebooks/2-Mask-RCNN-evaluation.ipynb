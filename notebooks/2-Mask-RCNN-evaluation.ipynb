{
 "cells": [
  {
   "cell_type": "markdown",
   "metadata": {
    "id": "hC_5G8Lxpq2H"
   },
   "source": [
    "# Setup Environment"
   ]
  },
  {
   "cell_type": "markdown",
   "metadata": {
    "id": "IlBL_xf-qm8v"
   },
   "source": [
    "Import required packages:"
   ]
  },
  {
   "cell_type": "code",
   "execution_count": null,
   "metadata": {
    "executionInfo": {
     "elapsed": 4097,
     "status": "ok",
     "timestamp": 1619189917974,
     "user": {
      "displayName": "JACOPO BARTOLI",
      "photoUrl": "",
      "userId": "09877609771543953448"
     },
     "user_tz": -120
    },
    "id": "qU9_UfpTqpVW"
   },
   "outputs": [],
   "source": [
    "# Some basic setup:\n",
    "# Setup detectron2 logger\n",
    "import detectron2\n",
    "from detectron2.utils.logger import setup_logger\n",
    "setup_logger()\n",
    "\n",
    "import os, cv2, json\n",
    "from matplotlib import pyplot as plt\n",
    "\n",
    "from detectron2 import model_zoo\n",
    "from detectron2.evaluation import COCOEvaluator, inference_on_dataset\n",
    "from detectron2.data import build_detection_test_loader, DatasetCatalog\n",
    "from detectron2.data.datasets import register_coco_instances\n",
    "from detectron2.engine import DefaultPredictor\n",
    "from detectron2.config import get_cfg\n",
    "from detectron2.utils.visualizer import Visualizer\n",
    "from detectron2.data.samplers.distributed_sampler import TrainingSampler\n",
    "from detectron2.data import MetadataCatalog"
   ]
  },
  {
   "cell_type": "markdown",
   "metadata": {
    "id": "Hzt4giGdq0tL"
   },
   "source": [
    "Global variables and settings:"
   ]
  },
  {
   "cell_type": "code",
   "execution_count": null,
   "metadata": {
    "executionInfo": {
     "elapsed": 2609,
     "status": "ok",
     "timestamp": 1619189917975,
     "user": {
      "displayName": "JACOPO BARTOLI",
      "photoUrl": "",
      "userId": "09877609771543953448"
     },
     "user_tz": -120
    },
    "id": "pUSAEIyzq5S4"
   },
   "outputs": [],
   "source": [
    "path_model_dir = \"/thecube/students/jravagli/outputs/detectron-12-epochs\"\n",
    "path_model_weights = os.path.join(path_model_dir, \"model_final.pth\")\n",
    "# path_model_config = os.path.join(path_model_dir, \"config.yaml\")\n",
    "\n",
    "path_ds_test_dir = \"/thecube/students/jravagli/datasets/test\"\n",
    "path_ds_test_imgs = os.path.join(path_ds_test_dir, \"image\")\n",
    "path_ds_test_json = os.path.join(path_ds_test_dir, \"test.json\")\n",
    "\n",
    "path_output_dir = \"/thecube/students/jravagli/outputs/detectron-eval\"\n",
    "path_res_json = os.path.join(path_output_dir, \"results.json\")\n",
    "\n",
    "# Model settings\n",
    "n_classes = 13 # Number of classes of the training set"
   ]
  },
  {
   "cell_type": "markdown",
   "metadata": {
    "id": "KhCU0lmY1Kc5"
   },
   "source": [
    "# Load data and model"
   ]
  },
  {
   "cell_type": "markdown",
   "metadata": {
    "id": "ZLslRoUI1Spn"
   },
   "source": [
    "Register the test dataset:"
   ]
  },
  {
   "cell_type": "code",
   "execution_count": null,
   "metadata": {
    "executionInfo": {
     "elapsed": 1271,
     "status": "ok",
     "timestamp": 1619189917975,
     "user": {
      "displayName": "JACOPO BARTOLI",
      "photoUrl": "",
      "userId": "09877609771543953448"
     },
     "user_tz": -120
    },
    "id": "iNdyeCQ_1XKi"
   },
   "outputs": [],
   "source": [
    "register_coco_instances(\"deepfashion_test\", {}, path_ds_test_json, path_ds_test_imgs)"
   ]
  },
  {
   "cell_type": "markdown",
   "metadata": {
    "id": "d76RKYwWv3zv"
   },
   "source": [
    "Load the trained model:"
   ]
  },
  {
   "cell_type": "code",
   "execution_count": null,
   "metadata": {
    "executionInfo": {
     "elapsed": 5884,
     "status": "ok",
     "timestamp": 1619189924091,
     "user": {
      "displayName": "JACOPO BARTOLI",
      "photoUrl": "",
      "userId": "09877609771543953448"
     },
     "user_tz": -120
    },
    "id": "4PCxvsyVv3S2"
   },
   "outputs": [],
   "source": [
    "# Use the same configuration used for training, with some changes for the \n",
    "# evaluation\n",
    "cfg = get_cfg()\n",
    "cfg.merge_from_file(model_zoo.get_config_file(\"COCO-InstanceSegmentation/mask_rcnn_R_50_FPN_3x.yaml\"))\n",
    "# cfg.merge_from_file(path_model_config)\n",
    "cfg.DATASETS.TRAIN = ()\n",
    "cfg.DATASETS.TEST = (\"deepfashion_test\",)\n",
    "cfg.DATALOADER.NUM_WORKERS = 8\n",
    "cfg.MODEL.WEIGHTS = path_model_weights\n",
    "cfg.SOLVER.IMS_PER_BATCH = 8\n",
    "cfg.MODEL.ROI_HEADS.BATCH_SIZE_PER_IMAGE = 128  # RoI batch size\n",
    "cfg.MODEL.ROI_HEADS.NUM_CLASSES = n_classes\n",
    "cfg.MODEL.ROI_HEADS.SCORE_THRESH_TEST = 0.5   # Confidence threshold for predictions (as in the DeepFashion2 paper)\n",
    "cfg.OUTPUT_DIR = path_output_dir\n",
    "\n",
    "predictor = DefaultPredictor(cfg)"
   ]
  },
  {
   "cell_type": "markdown",
   "metadata": {
    "id": "0YJ618g5uPb3"
   },
   "source": [
    "# Quantitative Results"
   ]
  },
  {
   "cell_type": "markdown",
   "metadata": {
    "id": "QZoQKWW3uSHB"
   },
   "source": [
    "Evaluate the model on the test set:"
   ]
  },
  {
   "cell_type": "code",
   "execution_count": null,
   "metadata": {
    "colab": {
     "base_uri": "https://localhost:8080/"
    },
    "executionInfo": {
     "elapsed": 11667219,
     "status": "ok",
     "timestamp": 1619201591317,
     "user": {
      "displayName": "JACOPO BARTOLI",
      "photoUrl": "",
      "userId": "09877609771543953448"
     },
     "user_tz": -120
    },
    "id": "MZMbE_MFuZIr",
    "outputId": "b81afd03-992a-4e04-eb8d-afb2fe7e62a3",
    "scrolled": true
   },
   "outputs": [],
   "source": [
    "# Create the data loader\n",
    "test_loader = build_detection_test_loader(cfg, \"deepfashion_test\")\n",
    "# Create the evaluator\n",
    "evaluator = COCOEvaluator(\"deepfashion_test\", (\"bbox\", \"segm\"), False, output_dir=path_output_dir)\n",
    "# Evaluate\n",
    "dict_res = inference_on_dataset(predictor.model, test_loader, evaluator)"
   ]
  },
  {
   "cell_type": "markdown",
   "metadata": {},
   "source": [
    "Save results:"
   ]
  },
  {
   "cell_type": "code",
   "execution_count": null,
   "metadata": {},
   "outputs": [],
   "source": [
    "with open(path_res_json, 'w') as f:\n",
    "    f.write(json.dumps(dict_res))\n",
    "print(\"Saved\")"
   ]
  },
  {
   "cell_type": "markdown",
   "metadata": {
    "id": "t-tRwcuHH_te"
   },
   "source": [
    "# Qualitative Analysis"
   ]
  },
  {
   "cell_type": "markdown",
   "metadata": {
    "id": "zN9AthrAoiqQ"
   },
   "source": [
    "Create the data loader:"
   ]
  },
  {
   "cell_type": "code",
   "execution_count": null,
   "metadata": {
    "colab": {
     "base_uri": "https://localhost:8080/"
    },
    "executionInfo": {
     "elapsed": 46626,
     "status": "ok",
     "timestamp": 1619190216188,
     "user": {
      "displayName": "JACOPO BARTOLI",
      "photoUrl": "",
      "userId": "09877609771543953448"
     },
     "user_tz": -120
    },
    "id": "VLD6i_ORohgF",
    "outputId": "30768a0e-9d7a-4634-8857-31b196ec2bd8"
   },
   "outputs": [],
   "source": [
    "list_dataset_dicts = DatasetCatalog.get(\"deepfashion_test\")\n",
    "metadata = MetadataCatalog.get(\"deepfashion_test\")"
   ]
  },
  {
   "cell_type": "markdown",
   "metadata": {
    "id": "jZuZ4VCVlx1V"
   },
   "source": [
    "Show network predictions on random samples:"
   ]
  },
  {
   "cell_type": "code",
   "execution_count": null,
   "metadata": {
    "colab": {
     "background_save": true
    },
    "id": "s6Ev-1v3ICrn",
    "outputId": "bd5b8900-4b43-4829-94b6-1110667235aa",
    "scrolled": false
   },
   "outputs": [],
   "source": [
    "n_images = 2\n",
    "\n",
    "sample_index = 0\n",
    "\n",
    "for i in range(n_images):\n",
    "    sample = list_dataset_dicts[sample_index]\n",
    "    for ann in sample[\"annotations\"]:\n",
    "        ann.pop(\"keypoints\", None)\n",
    "    \n",
    "    im = cv2.imread(sample[\"file_name\"])\n",
    "    \n",
    "    # Draw ground truth\n",
    "    v = Visualizer(im[:, :, ::-1], metadata)\n",
    "    out_gt = v.draw_dataset_dict(sample)\n",
    "    # Draw predictions\n",
    "    v = Visualizer(im[:, :, ::-1], metadata)\n",
    "    out_pred = v.draw_instance_predictions(predictor(im)[\"instances\"].to(\"cpu\"))\n",
    "    \n",
    "    fig, (ax1, ax2) = plt.subplots(1, 2, figsize=(15,15))\n",
    "    ax1.set_title(\"Ground Truth\")\n",
    "    ax1.imshow(out_gt.get_image())\n",
    "    ax2.set_title(\"Prediction\")\n",
    "    ax2.imshow(out_pred.get_image())\n",
    "    \n",
    "    sample_index +=1"
   ]
  }
 ],
 "metadata": {
  "accelerator": "GPU",
  "colab": {
   "collapsed_sections": [],
   "name": "2-Mask-RCNN-evaluation.ipynb",
   "provenance": [],
   "toc_visible": true
  },
  "kernelspec": {
   "display_name": "Python 3",
   "language": "python",
   "name": "python3"
  },
  "language_info": {
   "codemirror_mode": {
    "name": "ipython",
    "version": 3
   },
   "file_extension": ".py",
   "mimetype": "text/x-python",
   "name": "python",
   "nbconvert_exporter": "python",
   "pygments_lexer": "ipython3",
   "version": "3.7.7"
  }
 },
 "nbformat": 4,
 "nbformat_minor": 1
}

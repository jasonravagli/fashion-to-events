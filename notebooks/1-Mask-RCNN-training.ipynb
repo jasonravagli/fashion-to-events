{
 "cells": [
  {
   "cell_type": "markdown",
   "metadata": {
    "id": "s8BurEHTR_I0"
   },
   "source": [
    "# Setup Environment\n"
   ]
  },
  {
   "cell_type": "markdown",
   "metadata": {
    "id": "3cef0BZR1fik"
   },
   "source": [
    "Import required packages:"
   ]
  },
  {
   "cell_type": "code",
   "execution_count": null,
   "metadata": {
    "executionInfo": {
     "elapsed": 163764,
     "status": "ok",
     "timestamp": 1619167146235,
     "user": {
      "displayName": "JASON RAVAGLI",
      "photoUrl": "",
      "userId": "01884994422007125599"
     },
     "user_tz": -120
    },
    "id": "ZyAvNCJMmvFF"
   },
   "outputs": [],
   "source": [
    "# Setup detectron2\n",
    "import detectron2\n",
    "from detectron2.utils.logger import setup_logger\n",
    "setup_logger()\n",
    "\n",
    "import numpy as np\n",
    "import os, json, random, shutil\n",
    "\n",
    "import torch\n",
    "\n",
    "from detectron2 import model_zoo\n",
    "from detectron2.engine import DefaultTrainer, DefaultPredictor, HookBase, launch\n",
    "from detectron2.config import get_cfg\n",
    "from detectron2.data import MetadataCatalog, DatasetCatalog, build_detection_train_loader\n",
    "from detectron2.data.datasets import register_coco_instances\n",
    "import detectron2.utils.comm as comm"
   ]
  },
  {
   "cell_type": "markdown",
   "metadata": {
    "id": "n9mU1BkRZ_f6"
   },
   "source": [
    "Global variables and settings:\n"
   ]
  },
  {
   "cell_type": "code",
   "execution_count": null,
   "metadata": {
    "executionInfo": {
     "elapsed": 1167,
     "status": "ok",
     "timestamp": 1619167277317,
     "user": {
      "displayName": "JASON RAVAGLI",
      "photoUrl": "",
      "userId": "01884994422007125599"
     },
     "user_tz": -120
    },
    "id": "YOLsUieZaDr1"
   },
   "outputs": [],
   "source": [
    "path_train = \"/thecube/students/jravagli/datasets/train\"\n",
    "path_train_images = os.path.join(path_train, \"image\")\n",
    "path_train_json = os.path.join(path_train, \"train.json\")\n",
    "path_val_images = os.path.join(path_train, \"image\")\n",
    "path_val_json = os.path.join(path_train, \"valid.json\")\n",
    "path_output_dir = \"/thecube/students/jravagli/outputs/detectron\"\n",
    "\n",
    "# Model settings\n",
    "lr = 0.02\n",
    "batch_size = 8\n",
    "n_train_images = 163173 # Number of training images\n",
    "# We make a number of iterations so as to make the model see the whole training set *epochs* times\n",
    "epochs = 12\n",
    "iterations = epochs * n_train_images // batch_size\n",
    "n_classes = 13 # Number of classes of the training set\n",
    "# LR is reduced by a gamma factor after 8 and 11 epochs\n",
    "scheduler_steps = (8*n_train_images // batch_size, 11*n_train_images // batch_size,)\n",
    "weight_decay = 1e-5\n",
    "\n",
    "resume_training = False"
   ]
  },
  {
   "cell_type": "markdown",
   "metadata": {},
   "source": [
    "Clear output directory:"
   ]
  },
  {
   "cell_type": "code",
   "execution_count": null,
   "metadata": {},
   "outputs": [],
   "source": [
    "if not resume_training:\n",
    "    shutil.rmtree(path_output_dir)"
   ]
  },
  {
   "cell_type": "markdown",
   "metadata": {
    "id": "wHS1KarVWzQN"
   },
   "source": [
    "# Training\n"
   ]
  },
  {
   "cell_type": "markdown",
   "metadata": {},
   "source": [
    "Define a hook to monitor the validation loss during training ([GitHub issue](https://github.com/facebookresearch/detectron2/issues/810#issuecomment-596194293)):"
   ]
  },
  {
   "cell_type": "code",
   "execution_count": null,
   "metadata": {},
   "outputs": [],
   "source": [
    "class ValidationLoss(HookBase):\n",
    "    def __init__(self, cfg):\n",
    "        super().__init__()\n",
    "        self.cfg = cfg.clone()\n",
    "        self.cfg.DATASETS.TRAIN = cfg.DATASETS.VAL\n",
    "        self._loader = iter(build_detection_train_loader(self.cfg))\n",
    "        \n",
    "    def after_step(self):\n",
    "        data = next(self._loader)\n",
    "        with torch.no_grad():\n",
    "            loss_dict = self.trainer.model(data)\n",
    "            \n",
    "            losses = sum(loss_dict.values())\n",
    "            assert torch.isfinite(losses).all(), loss_dict\n",
    "\n",
    "            loss_dict_reduced = {\"val_\" + k: v.item() for k, v in \n",
    "                                 comm.reduce_dict(loss_dict).items()}\n",
    "            losses_reduced = sum(loss for loss in loss_dict_reduced.values())\n",
    "            if comm.is_main_process():\n",
    "                self.trainer.storage.put_scalars(total_val_loss=losses_reduced, \n",
    "                                                 **loss_dict_reduced)"
   ]
  },
  {
   "cell_type": "markdown",
   "metadata": {
    "id": "2Ogv2c4AW5v5"
   },
   "source": [
    "Register the dataset:"
   ]
  },
  {
   "cell_type": "code",
   "execution_count": null,
   "metadata": {
    "executionInfo": {
     "elapsed": 1991,
     "status": "ok",
     "timestamp": 1619167278150,
     "user": {
      "displayName": "JASON RAVAGLI",
      "photoUrl": "",
      "userId": "01884994422007125599"
     },
     "user_tz": -120
    },
    "id": "yoNBGi7LW9sQ"
   },
   "outputs": [],
   "source": [
    "register_coco_instances(\"deepfashion_train\", {}, path_train_json, path_train_images)\n",
    "register_coco_instances(\"deepfashion_val\", {}, path_val_json, path_val_images)"
   ]
  },
  {
   "cell_type": "markdown",
   "metadata": {
    "id": "3dfdkfZlnhSY"
   },
   "source": [
    "Define model configuration:"
   ]
  },
  {
   "cell_type": "code",
   "execution_count": null,
   "metadata": {
    "executionInfo": {
     "elapsed": 1988,
     "status": "ok",
     "timestamp": 1619167278150,
     "user": {
      "displayName": "JASON RAVAGLI",
      "photoUrl": "",
      "userId": "01884994422007125599"
     },
     "user_tz": -120
    },
    "id": "sZNr6homnjC6"
   },
   "outputs": [],
   "source": [
    "cfg = get_cfg()\n",
    "cfg.merge_from_file(model_zoo.get_config_file(\"COCO-InstanceSegmentation/mask_rcnn_R_50_FPN_3x.yaml\"))\n",
    "cfg.DATASETS.TRAIN = (\"deepfashion_train\",)\n",
    "cfg.DATASETS.VAL = (\"deepfashion_val\",)\n",
    "cfg.DATASETS.TEST = ()\n",
    "cfg.DATALOADER.NUM_WORKERS = 2\n",
    "if resume_training:\n",
    "    cfg.MODEL.WEIGHTS = None\n",
    "else:\n",
    "    cfg.MODEL.WEIGHTS = model_zoo.get_checkpoint_url(\"COCO-InstanceSegmentation/mask_rcnn_R_50_FPN_3x.yaml\")  # Let training initialize from model zoo\n",
    "\n",
    "cfg.SOLVER.IMS_PER_BATCH = batch_size\n",
    "cfg.SOLVER.MAX_ITER = iterations    # Number of batch updates\n",
    "cfg.SOLVER.BASE_LR = lr\n",
    "cfg.SOLVER.MOMENTUM = 0.9\n",
    "cfg.SOLVER.GAMMA = 0.1\n",
    "# The iteration number to decrease learning rate by GAMMA\n",
    "cfg.SOLVER.STEPS = scheduler_steps\n",
    "cfg.SOLVER.WEIGHT_DECAY = weight_decay\n",
    "\n",
    "cfg.MODEL.ROI_HEADS.BATCH_SIZE_PER_IMAGE = 128  # RoI batch size\n",
    "cfg.MODEL.ROI_HEADS.NUM_CLASSES = n_classes\n",
    "cfg.OUTPUT_DIR = path_output_dir"
   ]
  },
  {
   "cell_type": "markdown",
   "metadata": {
    "id": "KfjdR82C2_ma"
   },
   "source": [
    "Create the trainer and attach the validation hook:"
   ]
  },
  {
   "cell_type": "code",
   "execution_count": null,
   "metadata": {
    "colab": {
     "base_uri": "https://localhost:8080/"
    },
    "executionInfo": {
     "elapsed": 48533,
     "status": "ok",
     "timestamp": 1619167324700,
     "user": {
      "displayName": "JASON RAVAGLI",
      "photoUrl": "",
      "userId": "01884994422007125599"
     },
     "user_tz": -120
    },
    "id": "frppEkMUumy-",
    "outputId": "d05dc3bf-6044-4376-98d2-e2d711016f3f"
   },
   "outputs": [],
   "source": [
    "os.makedirs(cfg.OUTPUT_DIR, exist_ok=True)\n",
    "trainer = DefaultTrainer(cfg)\n",
    "\n",
    "val_loss = ValidationLoss(cfg)  \n",
    "trainer.register_hooks([val_loss])\n",
    "# swap the order of PeriodicWriter and ValidationLoss\n",
    "trainer._hooks = trainer._hooks[:-2] + trainer._hooks[-2:][::-1]"
   ]
  },
  {
   "cell_type": "markdown",
   "metadata": {
    "id": "yf3LgXQQ3Cdf"
   },
   "source": [
    "Train the model:"
   ]
  },
  {
   "cell_type": "code",
   "execution_count": null,
   "metadata": {
    "colab": {
     "base_uri": "https://localhost:8080/"
    },
    "executionInfo": {
     "elapsed": 16559986,
     "status": "ok",
     "timestamp": 1619183836159,
     "user": {
      "displayName": "JASON RAVAGLI",
      "photoUrl": "",
      "userId": "01884994422007125599"
     },
     "user_tz": -120
    },
    "id": "Zpd6LNNc0-zB",
    "outputId": "5d65737b-ac8a-4b8c-ff25-d18c5e9b6ceb"
   },
   "outputs": [],
   "source": [
    "trainer.resume_or_load(resume=resume_training)\n",
    "trainer.train()"
   ]
  }
 ],
 "metadata": {
  "accelerator": "GPU",
  "colab": {
   "collapsed_sections": [
    "v0dEF9HEZGmt"
   ],
   "name": "1-Mask-RCNN-training.ipynb",
   "provenance": []
  },
  "kernelspec": {
   "display_name": "Python 3",
   "language": "python",
   "name": "python3"
  },
  "language_info": {
   "codemirror_mode": {
    "name": "ipython",
    "version": 3
   },
   "file_extension": ".py",
   "mimetype": "text/x-python",
   "name": "python",
   "nbconvert_exporter": "python",
   "pygments_lexer": "ipython3",
   "version": "3.7.7"
  }
 },
 "nbformat": 4,
 "nbformat_minor": 1
}
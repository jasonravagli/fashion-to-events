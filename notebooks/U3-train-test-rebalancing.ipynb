{
 "cells": [
  {
   "cell_type": "markdown",
   "metadata": {},
   "source": [
    "**NOTE**: This notebook has been created to manually move some test images to the training set, since the test set has been found to contain about a half images with respect to the training set and overfitting occurs."
   ]
  },
  {
   "cell_type": "markdown",
   "metadata": {},
   "source": [
    "# Setup Environment"
   ]
  },
  {
   "cell_type": "markdown",
   "metadata": {},
   "source": [
    "Import required packages:"
   ]
  },
  {
   "cell_type": "code",
   "execution_count": null,
   "metadata": {},
   "outputs": [],
   "source": [
    "import os, cv2, ntpath\n",
    "import numpy as np"
   ]
  },
  {
   "cell_type": "markdown",
   "metadata": {},
   "source": [
    "Global variables and settings:"
   ]
  },
  {
   "cell_type": "code",
   "execution_count": null,
   "metadata": {},
   "outputs": [],
   "source": [
    "path_dir_project = \"/thecube/students/jravagli\"\n",
    "\n",
    "# Paths preprocessed datasets\n",
    "path_dir_pp_datasets = os.path.join(path_dir_project, \"datasets/used-pp-rebalanced\")\n",
    "path_pp_train_dataset = os.path.join(path_dir_pp_datasets, \"train\")\n",
    "path_pp_test_dataset = os.path.join(path_dir_pp_datasets, \"test\")\n",
    "# Path preprocessed annotation files\n",
    "path_pp_train_ann = os.path.join(path_dir_pp_datasets, \"train.txt\")\n",
    "path_pp_test_ann = os.path.join(path_dir_pp_datasets, \"test.txt\")\n",
    "\n",
    "# Probability to move a test image to the training set\n",
    "prob = 0.33"
   ]
  },
  {
   "cell_type": "markdown",
   "metadata": {},
   "source": [
    "# Utility Functions"
   ]
  },
  {
   "cell_type": "markdown",
   "metadata": {},
   "source": [
    "Function to load the images paths and classes from an annotation file:"
   ]
  },
  {
   "cell_type": "code",
   "execution_count": null,
   "metadata": {},
   "outputs": [],
   "source": [
    "def read_annotation_file(path_file):\n",
    "    with open(path_file) as f:\n",
    "        list_lines = f.readlines()\n",
    "    \n",
    "    list_images_names = []\n",
    "    list_images_classes = []\n",
    "    list_images_clothes = []\n",
    "    for line in list_lines:\n",
    "        splits = line.split(\",\")\n",
    "        list_images_names.append(splits[0].strip())\n",
    "        list_images_classes.append(splits[1].strip())\n",
    "        list_images_clothes.append(splits[2].strip())\n",
    "    \n",
    "    return list_images_names, list_images_classes, list_images_clothes"
   ]
  },
  {
   "cell_type": "markdown",
   "metadata": {},
   "source": [
    "# Balance the datasets"
   ]
  },
  {
   "cell_type": "code",
   "execution_count": null,
   "metadata": {},
   "outputs": [],
   "source": [
    "test_imgs, test_labels, test_clothes = read_annotation_file(path_pp_test_ann)\n",
    "new_train_imgs = []\n",
    "new_train_labels = []\n",
    "new_train_clothes = []\n",
    "new_test_imgs = []\n",
    "new_test_labels = []\n",
    "new_test_clothes = []\n",
    "\n",
    "for i in range(len(test_imgs)):\n",
    "    # The test image is moved to the training set with probability prob\n",
    "    if np.random.rand() < prob:\n",
    "        new_train_imgs.append(test_imgs[i])\n",
    "        new_train_labels.append(test_labels[i])\n",
    "        new_train_clothes.append(test_clothes[i])\n",
    "    else:\n",
    "        new_test_imgs.append(test_imgs[i])\n",
    "        new_test_labels.append(test_labels[i])\n",
    "        new_test_clothes.append(test_clothes[i])\n",
    "\n",
    "# Append the new train annotation data appending them to the existing file\n",
    "file_string = \"\"\n",
    "for i in range(len(new_train_imgs)):\n",
    "    file_string += new_train_imgs[i] + \",\" + str(new_train_labels[i]) + \",\" + str(new_train_clothes[i]) + \"\\n\"\n",
    "\n",
    "with open(path_pp_train_ann, \"a\") as f:\n",
    "    f.write(file_string)\n",
    "\n",
    "# Save the new test annotation file by replacing the old one\n",
    "file_string = \"\"\n",
    "for i in range(len(new_test_imgs)):\n",
    "    file_string += new_test_imgs[i] + \",\" + str(new_test_labels[i]) + \",\" + str(new_test_clothes[i]) + \"\\n\"\n",
    "\n",
    "with open(path_pp_test_ann, \"w\") as f:\n",
    "    f.write(file_string)"
   ]
  }
 ],
 "metadata": {
  "kernelspec": {
   "display_name": "Python 3",
   "language": "python",
   "name": "python3"
  },
  "language_info": {
   "codemirror_mode": {
    "name": "ipython",
    "version": 3
   },
   "file_extension": ".py",
   "mimetype": "text/x-python",
   "name": "python",
   "nbconvert_exporter": "python",
   "pygments_lexer": "ipython3",
   "version": "3.7.7"
  }
 },
 "nbformat": 4,
 "nbformat_minor": 5
}

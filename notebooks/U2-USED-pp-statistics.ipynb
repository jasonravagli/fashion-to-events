{
 "cells": [
  {
   "cell_type": "markdown",
   "metadata": {
    "id": "49wnpXUwE5Am"
   },
   "source": [
    "# Setup Environment"
   ]
  },
  {
   "cell_type": "markdown",
   "metadata": {
    "id": "xo4IK53dFaiO"
   },
   "source": [
    "Import required packages:"
   ]
  },
  {
   "cell_type": "code",
   "execution_count": null,
   "metadata": {
    "executionInfo": {
     "elapsed": 1560,
     "status": "ok",
     "timestamp": 1619618720766,
     "user": {
      "displayName": "JASON RAVAGLI",
      "photoUrl": "",
      "userId": "01884994422007125599"
     },
     "user_tz": -120
    },
    "id": "IO1a4QqDFenl"
   },
   "outputs": [],
   "source": [
    "import os, cv2, ntpath\n",
    "import numpy as np\n",
    "import matplotlib.pyplot as plt\n",
    "import seaborn as sns\n",
    "\n",
    "# Set Seaborn style for charts\n",
    "sns.set()"
   ]
  },
  {
   "cell_type": "markdown",
   "metadata": {
    "id": "MELCyBHoFfeV"
   },
   "source": [
    "Global variables and settings:"
   ]
  },
  {
   "cell_type": "code",
   "execution_count": null,
   "metadata": {
    "executionInfo": {
     "elapsed": 1557,
     "status": "ok",
     "timestamp": 1619618720768,
     "user": {
      "displayName": "JASON RAVAGLI",
      "photoUrl": "",
      "userId": "01884994422007125599"
     },
     "user_tz": -120
    },
    "id": "oaIEGrLTFjG3"
   },
   "outputs": [],
   "source": [
    "path_dir_project = \"/thecube/students/jravagli\"\n",
    "\n",
    "# Paths preprocessed datasets\n",
    "path_dir_pp_datasets = os.path.join(path_dir_project, \"datasets/used-pp-rebalanced\")\n",
    "path_pp_train_dataset = os.path.join(path_dir_pp_datasets, \"train\")\n",
    "path_pp_valid_dataset = os.path.join(path_dir_pp_datasets, \"valid\")\n",
    "path_pp_test_dataset = os.path.join(path_dir_pp_datasets, \"test\")\n",
    "# Path preprocessed annotation files\n",
    "path_pp_train_ann = os.path.join(path_dir_pp_datasets, \"train.txt\")\n",
    "path_pp_valid_ann = os.path.join(path_dir_pp_datasets, \"valid.txt\")\n",
    "path_pp_test_ann = os.path.join(path_dir_pp_datasets, \"test.txt\")"
   ]
  },
  {
   "cell_type": "markdown",
   "metadata": {
    "id": "9hpHAK_hGnJ4"
   },
   "source": [
    "# Class Distributions"
   ]
  },
  {
   "cell_type": "markdown",
   "metadata": {
    "id": "pEgulpK6pWsD"
   },
   "source": [
    "Function to load the images names and class from the txt files of the annotations:"
   ]
  },
  {
   "cell_type": "code",
   "execution_count": null,
   "metadata": {
    "executionInfo": {
     "elapsed": 1553,
     "status": "ok",
     "timestamp": 1619618720769,
     "user": {
      "displayName": "JASON RAVAGLI",
      "photoUrl": "",
      "userId": "01884994422007125599"
     },
     "user_tz": -120
    },
    "id": "_zj2_m5Ipfsc"
   },
   "outputs": [],
   "source": [
    "def read_annotation_file(path_file):\n",
    "    with open(path_file) as f:\n",
    "        list_lines = f.readlines()\n",
    "    \n",
    "    list_images_names = []\n",
    "    list_images_classes = []\n",
    "    list_images_clothes = []\n",
    "    for line in list_lines:\n",
    "        splits = line.split(\",\")\n",
    "        list_images_names.append(splits[0].strip())\n",
    "        list_images_classes.append(splits[1].strip())\n",
    "        list_images_clothes.append(splits[2].strip())\n",
    "    \n",
    "    return list_images_names, list_images_classes, list_images_clothes"
   ]
  },
  {
   "cell_type": "markdown",
   "metadata": {
    "id": "c9u_rwKOT0Cm"
   },
   "source": [
    "Class-label mapping:"
   ]
  },
  {
   "cell_type": "code",
   "execution_count": null,
   "metadata": {
    "executionInfo": {
     "elapsed": 1548,
     "status": "ok",
     "timestamp": 1619618720770,
     "user": {
      "displayName": "JASON RAVAGLI",
      "photoUrl": "",
      "userId": "01884994422007125599"
     },
     "user_tz": -120
    },
    "id": "dyyh9JzMT13g"
   },
   "outputs": [],
   "source": [
    "class_names = [\"concert\", \"graduation\", \"meeting\", \"mountain-trip\", \"picnic\",\n",
    "               \"sea-holiday\", \"ski-holiday\", \"wedding\", \"conference\", \"exhibition\", \"fashion\",\n",
    "               \"protest\", \"sport\", \"theater-dance\"]"
   ]
  },
  {
   "cell_type": "markdown",
   "metadata": {
    "id": "RQlXKbfuGwJD"
   },
   "source": [
    "Train set:"
   ]
  },
  {
   "cell_type": "code",
   "execution_count": null,
   "metadata": {
    "colab": {
     "base_uri": "https://localhost:8080/",
     "height": 501
    },
    "executionInfo": {
     "elapsed": 2032,
     "status": "ok",
     "timestamp": 1619618721261,
     "user": {
      "displayName": "JASON RAVAGLI",
      "photoUrl": "",
      "userId": "01884994422007125599"
     },
     "user_tz": -120
    },
    "id": "pTRgv_D0HDlm",
    "outputId": "07ef47bd-1280-49a1-a8eb-159a771271f2"
   },
   "outputs": [],
   "source": [
    "list_images_names, list_images_classes, list_images_clothes = read_annotation_file(path_pp_train_ann)\n",
    "\n",
    "print(f\"Train images: {len(list_images_names)}\")\n",
    "\n",
    "values, counts = np.unique(np.array(list_images_classes, dtype=np.int32),\n",
    "                           return_counts=True)\n",
    "\n",
    "y = np.arange(len(values))\n",
    "\n",
    "plt.figure(figsize=(17,8))\n",
    "plt.bar(y, counts, align=\"center\", color=sns.color_palette(\"muted\"))\n",
    "plt.xticks(y, class_names)\n",
    "plt.ylabel(\"Images\")\n",
    "plt.title(\"Train classes distribution\")\n",
    "\n",
    "plt.show()"
   ]
  },
  {
   "cell_type": "markdown",
   "metadata": {
    "id": "RP9NVXLsNlBn"
   },
   "source": [
    "Validation set:"
   ]
  },
  {
   "cell_type": "code",
   "execution_count": null,
   "metadata": {
    "colab": {
     "base_uri": "https://localhost:8080/",
     "height": 501
    },
    "executionInfo": {
     "elapsed": 2437,
     "status": "ok",
     "timestamp": 1619618721676,
     "user": {
      "displayName": "JASON RAVAGLI",
      "photoUrl": "",
      "userId": "01884994422007125599"
     },
     "user_tz": -120
    },
    "id": "7MOERkjQNlBo",
    "outputId": "2ebc0aaa-1417-4429-d7a4-f18eae220f45"
   },
   "outputs": [],
   "source": [
    "list_images_names, list_images_classes, list_images_clothes = read_annotation_file(path_pp_valid_ann)\n",
    "\n",
    "print(f\"Validation images: {len(list_images_names)}\")\n",
    "\n",
    "values, counts = np.unique(np.array(list_images_classes, dtype=np.int32),\n",
    "                           return_counts=True)\n",
    "\n",
    "y = np.arange(len(values))\n",
    "\n",
    "plt.figure(figsize=(16,8))\n",
    "plt.bar(y, counts, align=\"center\", color=sns.color_palette(\"muted\"))\n",
    "plt.xticks(y, class_names)\n",
    "plt.ylabel(\"Images\")\n",
    "plt.title(\"Validation classes distribution\")\n",
    "\n",
    "plt.show()"
   ]
  },
  {
   "cell_type": "markdown",
   "metadata": {
    "id": "qhEj7Nk7Nv6j"
   },
   "source": [
    "Test set:"
   ]
  },
  {
   "cell_type": "code",
   "execution_count": null,
   "metadata": {
    "colab": {
     "base_uri": "https://localhost:8080/",
     "height": 501
    },
    "executionInfo": {
     "elapsed": 2954,
     "status": "ok",
     "timestamp": 1619618722202,
     "user": {
      "displayName": "JASON RAVAGLI",
      "photoUrl": "",
      "userId": "01884994422007125599"
     },
     "user_tz": -120
    },
    "id": "fGFcMi8mNv6k",
    "outputId": "a2277af4-e0fb-468e-9ee5-188c25df410a"
   },
   "outputs": [],
   "source": [
    "list_images_names, list_images_classes, list_images_clothes = read_annotation_file(path_pp_test_ann)\n",
    "\n",
    "print(f\"Test images: {len(list_images_names)}\")\n",
    "\n",
    "values, counts = np.unique(np.array(list_images_classes, dtype=np.int32),\n",
    "                           return_counts=True)\n",
    "print(counts)\n",
    "y = np.arange(len(values))\n",
    "\n",
    "plt.figure(figsize=(16,8))\n",
    "plt.bar(y, counts, align=\"center\", color=sns.color_palette(\"muted\"))\n",
    "plt.xticks(y, class_names)\n",
    "plt.ylabel(\"Images\")\n",
    "plt.title(\"Test classes distribution\")\n",
    "\n",
    "plt.show()"
   ]
  },
  {
   "cell_type": "markdown",
   "metadata": {
    "id": "9hpHAK_hGnJ4"
   },
   "source": [
    "# Clothes Distributions"
   ]
  },
  {
   "cell_type": "markdown",
   "metadata": {
    "id": "c9u_rwKOT0Cm"
   },
   "source": [
    "Class-label mapping:"
   ]
  },
  {
   "cell_type": "code",
   "execution_count": null,
   "metadata": {
    "executionInfo": {
     "elapsed": 1548,
     "status": "ok",
     "timestamp": 1619618720770,
     "user": {
      "displayName": "JASON RAVAGLI",
      "photoUrl": "",
      "userId": "01884994422007125599"
     },
     "user_tz": -120
    },
    "id": "dyyh9JzMT13g"
   },
   "outputs": [],
   "source": [
    "clothes_names = [\"ss top\", \"ls top\", \"ss outwear\", \"ls outwear\", \"vest\", \"sling\", \"shorts\", \"trousers\",\n",
    "                 \"skirt\", \"ss dress\", \"ls dress\", \"vest dress\", \"sling dress\"] "
   ]
  },
  {
   "cell_type": "markdown",
   "metadata": {
    "id": "RQlXKbfuGwJD"
   },
   "source": [
    "Train set:"
   ]
  },
  {
   "cell_type": "code",
   "execution_count": null,
   "metadata": {
    "colab": {
     "base_uri": "https://localhost:8080/",
     "height": 501
    },
    "executionInfo": {
     "elapsed": 2032,
     "status": "ok",
     "timestamp": 1619618721261,
     "user": {
      "displayName": "JASON RAVAGLI",
      "photoUrl": "",
      "userId": "01884994422007125599"
     },
     "user_tz": -120
    },
    "id": "pTRgv_D0HDlm",
    "outputId": "07ef47bd-1280-49a1-a8eb-159a771271f2"
   },
   "outputs": [],
   "source": [
    "list_images_names, list_images_classes, list_images_clothes = read_annotation_file(path_pp_train_ann)\n",
    "\n",
    "values, counts = np.unique(np.array(list_images_clothes, dtype=np.int32),\n",
    "                           return_counts=True)\n",
    "print(f\"Found {len(values)} out of {len(clothes_names)} clothes\")\n",
    "\n",
    "y = np.arange(len(values))\n",
    "\n",
    "plt.figure(figsize=(17,8))\n",
    "plt.bar(y, counts, align=\"center\", color=sns.color_palette(\"muted\"))\n",
    "plt.xticks(y, np.array(clothes_names)[values])\n",
    "plt.ylabel(\"Images\")\n",
    "plt.title(\"Train classes distribution\")\n",
    "\n",
    "plt.show()"
   ]
  },
  {
   "cell_type": "markdown",
   "metadata": {
    "id": "RP9NVXLsNlBn"
   },
   "source": [
    "Validation set:"
   ]
  },
  {
   "cell_type": "code",
   "execution_count": null,
   "metadata": {
    "colab": {
     "base_uri": "https://localhost:8080/",
     "height": 501
    },
    "executionInfo": {
     "elapsed": 2437,
     "status": "ok",
     "timestamp": 1619618721676,
     "user": {
      "displayName": "JASON RAVAGLI",
      "photoUrl": "",
      "userId": "01884994422007125599"
     },
     "user_tz": -120
    },
    "id": "7MOERkjQNlBo",
    "outputId": "2ebc0aaa-1417-4429-d7a4-f18eae220f45"
   },
   "outputs": [],
   "source": [
    "list_images_names, list_images_classes, list_images_clothes = read_annotation_file(path_pp_valid_ann)\n",
    "\n",
    "values, counts = np.unique(np.array(list_images_clothes, dtype=np.int32),\n",
    "                           return_counts=True)\n",
    "print(f\"Found {len(values)} out of {len(clothes_names)} clothes\")\n",
    "\n",
    "y = np.arange(len(values))\n",
    "\n",
    "plt.figure(figsize=(16,8))\n",
    "plt.bar(y, counts, align=\"center\", color=sns.color_palette(\"muted\"))\n",
    "plt.xticks(y, np.array(clothes_names)[values])\n",
    "plt.ylabel(\"Images\")\n",
    "plt.title(\"Validation classes distribution\")\n",
    "\n",
    "plt.show()"
   ]
  },
  {
   "cell_type": "markdown",
   "metadata": {
    "id": "qhEj7Nk7Nv6j"
   },
   "source": [
    "Test set:"
   ]
  },
  {
   "cell_type": "code",
   "execution_count": null,
   "metadata": {
    "colab": {
     "base_uri": "https://localhost:8080/",
     "height": 501
    },
    "executionInfo": {
     "elapsed": 2954,
     "status": "ok",
     "timestamp": 1619618722202,
     "user": {
      "displayName": "JASON RAVAGLI",
      "photoUrl": "",
      "userId": "01884994422007125599"
     },
     "user_tz": -120
    },
    "id": "fGFcMi8mNv6k",
    "outputId": "a2277af4-e0fb-468e-9ee5-188c25df410a"
   },
   "outputs": [],
   "source": [
    "list_images_names, list_images_classes, list_images_clothes = read_annotation_file(path_pp_test_ann)\n",
    "\n",
    "values, counts = np.unique(np.array(list_images_clothes, dtype=np.int32),\n",
    "                           return_counts=True)\n",
    "print(f\"Found {len(values)} out of {len(clothes_names)} clothes\")\n",
    "\n",
    "y = np.arange(len(values))\n",
    "\n",
    "plt.figure(figsize=(16,8))\n",
    "plt.bar(y, counts, align=\"center\", color=sns.color_palette(\"muted\"))\n",
    "plt.xticks(y, np.array(clothes_names)[values])\n",
    "plt.ylabel(\"Images\")\n",
    "plt.title(\"Test classes distribution\")\n",
    "\n",
    "plt.show()"
   ]
  },
  {
   "cell_type": "markdown",
   "metadata": {
    "id": "MyuhnU_-S_0i"
   },
   "source": [
    "# Image checking"
   ]
  },
  {
   "cell_type": "code",
   "execution_count": null,
   "metadata": {
    "executionInfo": {
     "elapsed": 2948,
     "status": "ok",
     "timestamp": 1619618722203,
     "user": {
      "displayName": "JASON RAVAGLI",
      "photoUrl": "",
      "userId": "01884994422007125599"
     },
     "user_tz": -120
    },
    "id": "g3Z7-NEuTmM2"
   },
   "outputs": [],
   "source": [
    "dataset = \"train\"\n",
    "\n",
    "if dataset == \"train\":\n",
    "    path_pp_ann = path_pp_train_ann\n",
    "    path_pp_dataset = path_pp_train_dataset\n",
    "elif dataset == \"valid\":\n",
    "    path_pp_ann = path_pp_valid_ann\n",
    "    path_pp_dataset = path_pp_valid_dataset\n",
    "else:\n",
    "    path_pp_ann = path_pp_test_ann\n",
    "    path_pp_dataset = path_pp_test_dataset"
   ]
  },
  {
   "cell_type": "markdown",
   "metadata": {
    "id": "LZa9cReJrTVi"
   },
   "source": [
    "Load annotations and images names:"
   ]
  },
  {
   "cell_type": "code",
   "execution_count": null,
   "metadata": {
    "executionInfo": {
     "elapsed": 2942,
     "status": "ok",
     "timestamp": 1619618722203,
     "user": {
      "displayName": "JASON RAVAGLI",
      "photoUrl": "",
      "userId": "01884994422007125599"
     },
     "user_tz": -120
    },
    "id": "Br4odGPirkHu"
   },
   "outputs": [],
   "source": [
    "list_pp_imgs, list_pp_classes, list_pp_clothes = read_annotation_file(path_pp_ann)\n",
    "\n",
    "np_pp_imgs = np.array(list_pp_imgs)\n",
    "np_pp_classes = np.array(list_pp_classes, dtype=np.int32)"
   ]
  },
  {
   "cell_type": "markdown",
   "metadata": {
    "id": "v50EZVuzTEmY"
   },
   "source": [
    "Select images randomly from the dataset and compare with the original USED image:"
   ]
  },
  {
   "cell_type": "code",
   "execution_count": null,
   "metadata": {
    "colab": {
     "base_uri": "https://localhost:8080/",
     "height": 1000
    },
    "executionInfo": {
     "elapsed": 1719,
     "status": "ok",
     "timestamp": 1619621403559,
     "user": {
      "displayName": "JASON RAVAGLI",
      "photoUrl": "",
      "userId": "01884994422007125599"
     },
     "user_tz": -120
    },
    "id": "BAJOxc4rqp6X",
    "outputId": "a0cc4c82-9760-4ba6-a3c5-c192e87564d1",
    "scrolled": true
   },
   "outputs": [],
   "source": [
    "class_label = 3\n",
    "\n",
    "mask = (np_pp_classes == class_label)\n",
    "filtered_pp_imgs = np_pp_imgs[mask]\n",
    "img_pp_name = filtered_pp_imgs[np.random.randint(len(filtered_pp_imgs))]\n",
    "\n",
    "path_pp_img = os.path.join(path_pp_dataset, img_pp_name)\n",
    "\n",
    "pp_img = cv2.imread(path_pp_img)\n",
    "plt.imshow(pp_img[:, :, ::-1])\n",
    "plt.show()\n",
    "\n",
    "print(f\"Img path: {path_pp_img}\")\n",
    "print(f\"Preprocessed image shape: {pp_img.shape}\")"
   ]
  },
  {
   "cell_type": "markdown",
   "metadata": {},
   "source": [
    "Debug cell to compare the cropped image with the original:"
   ]
  },
  {
   "cell_type": "code",
   "execution_count": null,
   "metadata": {},
   "outputs": [],
   "source": [
    "img = cv2.imread(\"/thecube/students/jravagli/datasets/used/train/train-part1/9385977683_c8c26f3a56.jpg\")\n",
    "plt.imshow(img[:, :, ::-1])\n",
    "plt.show()\n",
    "print(f\"Preprocessed image shape: {img.shape}\")"
   ]
  }
 ],
 "metadata": {
  "colab": {
   "authorship_tag": "ABX9TyOTwhhaOhMi8Tn8BH27Y9TO",
   "collapsed_sections": [],
   "name": "U2-USED-pp-statistics.ipynb",
   "provenance": [],
   "toc_visible": true
  },
  "kernelspec": {
   "display_name": "Python 3",
   "language": "python",
   "name": "python3"
  },
  "language_info": {
   "codemirror_mode": {
    "name": "ipython",
    "version": 3
   },
   "file_extension": ".py",
   "mimetype": "text/x-python",
   "name": "python",
   "nbconvert_exporter": "python",
   "pygments_lexer": "ipython3",
   "version": "3.7.7"
  }
 },
 "nbformat": 4,
 "nbformat_minor": 1
}
